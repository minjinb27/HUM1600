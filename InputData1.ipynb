{
  "nbformat": 4,
  "nbformat_minor": 0,
  "metadata": {
    "colab": {
      "provenance": [],
      "include_colab_link": true
    },
    "kernelspec": {
      "name": "python3",
      "display_name": "Python 3"
    },
    "language_info": {
      "name": "python"
    }
  },
  "cells": [
    {
      "cell_type": "markdown",
      "metadata": {
        "id": "view-in-github",
        "colab_type": "text"
      },
      "source": [
        "<a href=\"https://colab.research.google.com/github/minjinb27/HUM1600/blob/main/InputData1.ipynb\" target=\"_parent\"><img src=\"https://colab.research.google.com/assets/colab-badge.svg\" alt=\"Open In Colab\"/></a>"
      ]
    },
    {
      "cell_type": "code",
      "source": [
        "'''\n",
        "Minjin Baasanjav\n",
        "20 January 2023\n",
        "1. Quantitative data is about numbers and amounts, like counting or measuring, while qualitative data is about qualities or descriptions, like talking about what things are like.\n",
        "2. Casting is changing the way a computer sees a number. For example when turning a written number, like \"10,\" into a real number for doing math.\n",
        "3. Precision is about how many total digits a number have, and scale is specifically about how many of those digits are after the decimal point, like in the number 27.777 where 5 is the precision and 3 is the scale.\n",
        "'''\n",
        "\n"
      ],
      "metadata": {
        "colab": {
          "base_uri": "https://localhost:8080/",
          "height": 35
        },
        "id": "bkHtf-JTKkmM",
        "outputId": "9f658ee1-3282-4c12-c8f5-7c55776a816c"
      },
      "execution_count": null,
      "outputs": [
        {
          "output_type": "execute_result",
          "data": {
            "text/plain": [
              "'\\nMinjin Baasanjav\\n20 January 2023\\n'"
            ],
            "application/vnd.google.colaboratory.intrinsic+json": {
              "type": "string"
            }
          },
          "metadata": {},
          "execution_count": 2
        }
      ]
    },
    {
      "cell_type": "code",
      "source": [
        "# Problem 1\n",
        "print(\"Minjin Baasanjav\\nU1451848@utah.edu\")"
      ],
      "metadata": {
        "colab": {
          "base_uri": "https://localhost:8080/"
        },
        "id": "yqccGfiIKy4P",
        "outputId": "4273c5cd-ffb9-4ab3-9268-df1a09a9bf06"
      },
      "execution_count": null,
      "outputs": [
        {
          "output_type": "stream",
          "name": "stdout",
          "text": [
            "Minjin Baasanjav\n",
            "U1451848@utah.edu\n"
          ]
        }
      ]
    },
    {
      "cell_type": "code",
      "source": [
        "# Problem 2\n",
        "x = 100\n",
        "y = 15\n",
        "print(x * y)\n",
        "print(type(x * y))\n",
        "print(x / y)\n",
        "print(type(x / y))\n"
      ],
      "metadata": {
        "colab": {
          "base_uri": "https://localhost:8080/"
        },
        "id": "tsDBI5-VLx4z",
        "outputId": "129c68ae-21d2-4913-b347-463f122b1a6e"
      },
      "execution_count": null,
      "outputs": [
        {
          "output_type": "stream",
          "name": "stdout",
          "text": [
            "1500\n",
            "<class 'int'>\n",
            "6.666666666666667\n",
            "<class 'float'>\n"
          ]
        }
      ]
    },
    {
      "cell_type": "code",
      "source": [
        "# Problem 3\n",
        "x = int(input(\"Enter an integer: \"))\n",
        "y = int(input(\"Enter another integer: \"))\n",
        "print(x * y)\n",
        "print(type(x * y))\n",
        "print(x / y)\n",
        "print(type(x / y))\n"
      ],
      "metadata": {
        "id": "PCVjEqexNFaW",
        "colab": {
          "base_uri": "https://localhost:8080/"
        },
        "outputId": "f111bb58-3a67-4f62-97c1-0b2bddd0f5d5"
      },
      "execution_count": null,
      "outputs": [
        {
          "output_type": "stream",
          "name": "stdout",
          "text": [
            "Enter an integer: 1\n",
            "Enter another integer: 2\n",
            "2\n",
            "<class 'int'>\n",
            "0.5\n",
            "<class 'float'>\n"
          ]
        }
      ]
    },
    {
      "cell_type": "markdown",
      "source": [
        "What is the value of Row 2 - a or b? True\n",
        "\n",
        "What is the value of Row 4 - a and (a or b)? False\n",
        "\n",
        "What is the value of Row 3 - not a? True"
      ],
      "metadata": {
        "id": "60zaflSZRAtI"
      }
    },
    {
      "cell_type": "code",
      "source": [
        "# Problem 5\n",
        "university_name = \"University of Utah\"\n",
        "print(university_name[14] + university_name[8] + university_name[4] + university_name[6] + \"!\")\n"
      ],
      "metadata": {
        "id": "3KNNWZ6hRBF2",
        "colab": {
          "base_uri": "https://localhost:8080/"
        },
        "outputId": "c141abd3-4781-4acf-af53-e71870bb1cf1"
      },
      "execution_count": null,
      "outputs": [
        {
          "output_type": "stream",
          "name": "stdout",
          "text": [
            "Utes!\n"
          ]
        }
      ]
    },
    {
      "cell_type": "code",
      "source": [
        "# Problem 6\n",
        "hamlet_speech = \"To be, or not to be, that is the question: Whether 'tis nobler in the mind to suffer The slings and arrows of outrageous fortune, Or to take arms against a sea of troubles And by opposing end them.\"\n",
        "new_phrase = hamlet_speech[172] + hamlet_speech[2] + hamlet_speech[8] + hamlet_speech[4] + hamlet_speech[3] + hamlet_speech[4] + hamlet_speech[59] + hamlet_speech[51] + hamlet_speech[54] + hamlet_speech[65:68] + hamlet_speech[7:9] + hamlet_speech[10] + hamlet_speech[-1:]\n",
        "print(new_phrase)"
      ],
      "metadata": {
        "id": "NVYKiVjbRhHF",
        "colab": {
          "base_uri": "https://localhost:8080/"
        },
        "outputId": "4a5a520b-7fe2-4545-e190-fe534a05b8f5"
      },
      "execution_count": null,
      "outputs": [
        {
          "output_type": "stream",
          "name": "stdout",
          "text": [
            "A rebel's thorn.\n"
          ]
        }
      ]
    }
  ]
}