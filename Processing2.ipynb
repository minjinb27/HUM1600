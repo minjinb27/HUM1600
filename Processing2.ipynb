{
  "nbformat": 4,
  "nbformat_minor": 0,
  "metadata": {
    "colab": {
      "provenance": [],
      "authorship_tag": "ABX9TyOAteoGyeqbBme2a61y67Ra",
      "include_colab_link": true
    },
    "kernelspec": {
      "name": "python3",
      "display_name": "Python 3"
    },
    "language_info": {
      "name": "python"
    }
  },
  "cells": [
    {
      "cell_type": "markdown",
      "metadata": {
        "id": "view-in-github",
        "colab_type": "text"
      },
      "source": [
        "<a href=\"https://colab.research.google.com/github/minjinb27/HUM1600/blob/main/Processing2.ipynb\" target=\"_parent\"><img src=\"https://colab.research.google.com/assets/colab-badge.svg\" alt=\"Open In Colab\"/></a>"
      ]
    },
    {
      "cell_type": "code",
      "execution_count": null,
      "metadata": {
        "id": "abKZCmhXALLg"
      },
      "outputs": [],
      "source": [
        "\"\"\"\n",
        "Minjin Baasanjav\n",
        "25 February 2024\n",
        "1. Built-in functions are already available in the programming language.\n",
        "Programmer-defined functions are made by the programmer themselves.\n",
        "2. A void function does not return a value, while a value function does\n",
        "return a value after completing its task.\n",
        "\"\"\""
      ]
    },
    {
      "cell_type": "code",
      "source": [
        "# Problem 1\n",
        "num_list = [23, 56, 19, 52, 87, 88, 50, 34, 22, 61, 52, 43, 25, 76, 77, 94]\n",
        "num_count = len(num_list)\n",
        "max_num = max(num_list)\n",
        "min_num = min(num_list)\n",
        "total_sum = sum(num_list)\n",
        "print(\"Report:\")\n",
        "print(f\"Total numbers in the list: {num_count}\")\n",
        "print(f\"Maximum value in the list: {max_num}\")\n",
        "print(f\"Minimum value in the list: {min_num}\")\n",
        "print(f\"Total sum of all numbers: {total_sum}\")"
      ],
      "metadata": {
        "id": "V4NrcRYsAZV1"
      },
      "execution_count": null,
      "outputs": []
    },
    {
      "cell_type": "code",
      "source": [
        "# Problem 2\n",
        "def print_name_info(first_name, last_name):\n",
        "    full_name = f\"{first_name} {last_name}\"\n",
        "    print(\"Full Name:\", full_name)\n",
        "    print(\"Last Name, First Name:\", last_name + \", \" + first_name)\n",
        "    print(\"Uppercase Name:\", full_name.upper())\n",
        "    print(\"Spaced Name:\")\n",
        "    for char in full_name:\n",
        "        print(char, end=\" \")\n",
        "first_name = input(\"Enter your first name: \")\n",
        "last_name = input(\"Enter your last name: \")\n",
        "print_name_info(first_name, last_name)"
      ],
      "metadata": {
        "id": "HIshvqEZCuSJ"
      },
      "execution_count": null,
      "outputs": []
    },
    {
      "cell_type": "code",
      "source": [
        "# Problem 3\n",
        "import random\n",
        "def roll_dice():\n",
        "    return random.randint(1, 6)\n",
        "die = roll_dice()\n",
        "print(\"Welcome to the dice guessing game!\")\n",
        "guess_count = 0\n",
        "while guess_count < 3:\n",
        "    guess = int(input(\"Guess the value of the rolled die (1-6): \"))\n",
        "    if guess == die:\n",
        "        print(\"Congratulations! You guessed it right!\")\n",
        "        break\n",
        "    else:\n",
        "        print(\"Incorrect guess. Try again.\")\n",
        "    guess_count += 1\n",
        "else:\n",
        "    print(\"Sorry, you have used all your attempts. The correct answer was:\", die)"
      ],
      "metadata": {
        "id": "ReOU3uyiD0JP"
      },
      "execution_count": null,
      "outputs": []
    }
  ]
}